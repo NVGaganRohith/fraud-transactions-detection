{
 "cells": [
  {
   "cell_type": "code",
   "execution_count": 1,
   "metadata": {},
   "outputs": [],
   "source": [
    "from sklearn.ensemble import IsolationForest\n",
    "from sklearn.model_selection import train_test_split\n",
    "from sklearn.metrics import classification_report\n",
    "from sklearn.preprocessing import LabelEncoder\n",
    "import pandas as pd\n",
    "import numpy as np\n",
    "import matplotlib.pyplot as plt\n",
    "import seaborn as sns\n",
    "import matplotlib"
   ]
  },
  {
   "cell_type": "code",
   "execution_count": 4,
   "metadata": {},
   "outputs": [
    {
     "data": {
      "text/html": [
       "<div>\n",
       "<style scoped>\n",
       "    .dataframe tbody tr th:only-of-type {\n",
       "        vertical-align: middle;\n",
       "    }\n",
       "\n",
       "    .dataframe tbody tr th {\n",
       "        vertical-align: top;\n",
       "    }\n",
       "\n",
       "    .dataframe thead th {\n",
       "        text-align: right;\n",
       "    }\n",
       "</style>\n",
       "<table border=\"1\" class=\"dataframe\">\n",
       "  <thead>\n",
       "    <tr style=\"text-align: right;\">\n",
       "      <th></th>\n",
       "      <th>Transaction_Id</th>\n",
       "      <th>Sender_Id</th>\n",
       "      <th>Sender_Account</th>\n",
       "      <th>Sender_Country</th>\n",
       "      <th>Sender_Sector</th>\n",
       "      <th>Sender_lob</th>\n",
       "      <th>Bene_Id</th>\n",
       "      <th>Bene_Account</th>\n",
       "      <th>Bene_Country</th>\n",
       "      <th>USD_amount</th>\n",
       "      <th>Label</th>\n",
       "      <th>Transaction_Type</th>\n",
       "      <th>Date</th>\n",
       "      <th>Time</th>\n",
       "    </tr>\n",
       "  </thead>\n",
       "  <tbody>\n",
       "    <tr>\n",
       "      <th>0</th>\n",
       "      <td>EXCHANGE-10115</td>\n",
       "      <td>JPMC-CLIENT-10098</td>\n",
       "      <td>ACCOUNT-10108</td>\n",
       "      <td>USA</td>\n",
       "      <td>35537</td>\n",
       "      <td>CCB</td>\n",
       "      <td>Unknown</td>\n",
       "      <td>Unknown</td>\n",
       "      <td>Unknown</td>\n",
       "      <td>558.43</td>\n",
       "      <td>0</td>\n",
       "      <td>WITHDRAWAL</td>\n",
       "      <td>2022-01-15</td>\n",
       "      <td>37440</td>\n",
       "    </tr>\n",
       "    <tr>\n",
       "      <th>1</th>\n",
       "      <td>QUICK-PAYMENT-10116</td>\n",
       "      <td>JPMC-CLIENT-10098</td>\n",
       "      <td>ACCOUNT-10109</td>\n",
       "      <td>USA</td>\n",
       "      <td>15287</td>\n",
       "      <td>CCB</td>\n",
       "      <td>CLIENT-10100</td>\n",
       "      <td>ACCOUNT-10106</td>\n",
       "      <td>CANADA</td>\n",
       "      <td>622.78</td>\n",
       "      <td>0</td>\n",
       "      <td>QUICK-PAYMENT</td>\n",
       "      <td>2022-01-15</td>\n",
       "      <td>37440</td>\n",
       "    </tr>\n",
       "  </tbody>\n",
       "</table>\n",
       "</div>"
      ],
      "text/plain": [
       "        Transaction_Id          Sender_Id Sender_Account Sender_Country  \\\n",
       "0       EXCHANGE-10115  JPMC-CLIENT-10098  ACCOUNT-10108            USA   \n",
       "1  QUICK-PAYMENT-10116  JPMC-CLIENT-10098  ACCOUNT-10109            USA   \n",
       "\n",
       "   Sender_Sector Sender_lob       Bene_Id   Bene_Account Bene_Country  \\\n",
       "0          35537        CCB       Unknown        Unknown      Unknown   \n",
       "1          15287        CCB  CLIENT-10100  ACCOUNT-10106       CANADA   \n",
       "\n",
       "   USD_amount  Label Transaction_Type        Date   Time  \n",
       "0      558.43      0       WITHDRAWAL  2022-01-15  37440  \n",
       "1      622.78      0    QUICK-PAYMENT  2022-01-15  37440  "
      ]
     },
     "execution_count": 4,
     "metadata": {},
     "output_type": "execute_result"
    }
   ],
   "source": [
    "data=pd.read_csv(r\"C:\\Users\\gagan\\Downloads\\Data\\Winter 23-24\\Capstone\\fraud-transactions-detection\\JPMorgan\\SupervisedFraudData.csv\")\n",
    "data.head(2)"
   ]
  },
  {
   "cell_type": "markdown",
   "metadata": {},
   "source": [
    "## 1. Data Preprocessing\n",
    "#### Handle missing values, outliers, encode categorical variables, scale numerical features"
   ]
  },
  {
   "cell_type": "code",
   "execution_count": 5,
   "metadata": {},
   "outputs": [
    {
     "data": {
      "text/plain": [
       "Index(['Transaction_Id', 'Sender_Id', 'Sender_Account', 'Sender_Country',\n",
       "       'Sender_Sector', 'Sender_lob', 'Bene_Id', 'Bene_Account',\n",
       "       'Bene_Country', 'USD_amount', 'Label', 'Transaction_Type', 'Date',\n",
       "       'Time'],\n",
       "      dtype='object')"
      ]
     },
     "execution_count": 5,
     "metadata": {},
     "output_type": "execute_result"
    }
   ],
   "source": [
    "data.columns"
   ]
  },
  {
   "cell_type": "code",
   "execution_count": null,
   "metadata": {},
   "outputs": [],
   "source": [
    "data.isnull().sum()"
   ]
  },
  {
   "cell_type": "code",
   "execution_count": null,
   "metadata": {},
   "outputs": [],
   "source": [
    "data.info()"
   ]
  },
  {
   "cell_type": "code",
   "execution_count": null,
   "metadata": {},
   "outputs": [],
   "source": [
    "data['Sender_lob'].value_counts()"
   ]
  },
  {
   "cell_type": "code",
   "execution_count": null,
   "metadata": {},
   "outputs": [],
   "source": [
    "data_encoded = pd.get_dummies(data, columns=['Sender_Country', 'Bene_Country', 'Transaction_Type'])\n"
   ]
  },
  {
   "cell_type": "code",
   "execution_count": null,
   "metadata": {},
   "outputs": [],
   "source": [
    "label_encoder = LabelEncoder()\n",
    "data_encoded['Transaction_Id'] = label_encoder.fit_transform(data_encoded['Transaction_Id'])\n",
    "data_encoded['Sender_Id'] = label_encoder.fit_transform(data_encoded['Sender_Id'])\n",
    "data_encoded['Sender_Account'] = label_encoder.fit_transform(data_encoded['Sender_Account'])\n",
    "data_encoded['Bene_Id'] = label_encoder.fit_transform(data_encoded['Bene_Id'])\n",
    "data_encoded['Bene_Account'] = label_encoder.fit_transform(data_encoded['Bene_Account'])"
   ]
  },
  {
   "cell_type": "code",
   "execution_count": null,
   "metadata": {},
   "outputs": [],
   "source": [
    "data_encoded.drop('Sender_lob',inplace=True,axis=1)\n",
    "data_encoded.drop('Time_step',inplace=True,axis=1)"
   ]
  },
  {
   "cell_type": "code",
   "execution_count": null,
   "metadata": {},
   "outputs": [],
   "source": [
    "# 2. Split the Data\n",
    "Feature = data_encoded.drop(columns=['Label'])  # Features\n",
    "Target = data_encoded['Label']  # Target variable\n",
    "Feature_train, Feature_test, Target_train, Target_test = train_test_split(Feature, Target, test_size=0.2, random_state=42)"
   ]
  },
  {
   "cell_type": "code",
   "execution_count": null,
   "metadata": {},
   "outputs": [],
   "source": [
    "# 3. Train the Isolation Forest Model\n",
    "model = IsolationForest(n_estimators=100, contamination=0.01, random_state=42)\n",
    "model.fit(Feature_train)"
   ]
  },
  {
   "cell_type": "code",
   "execution_count": null,
   "metadata": {},
   "outputs": [],
   "source": [
    "# 4. Evaluate the Model\n",
    "Target_pred_train = model.predict(Feature_train)\n",
    "Target_pred_test = model.predict(Feature_test)\n",
    "\n",
    "print(\"Classification Report for Training Set:\")\n",
    "print(classification_report(Target_train, Target_pred_train))\n",
    "\n",
    "print(\"Classification Report for Test Set:\")\n",
    "print(classification_report(Target_test, Target_pred_test))"
   ]
  },
  {
   "cell_type": "code",
   "execution_count": null,
   "metadata": {},
   "outputs": [],
   "source": []
  }
 ],
 "metadata": {
  "kernelspec": {
   "display_name": "Python 3",
   "language": "python",
   "name": "python3"
  },
  "language_info": {
   "codemirror_mode": {
    "name": "ipython",
    "version": 3
   },
   "file_extension": ".py",
   "mimetype": "text/x-python",
   "name": "python",
   "nbconvert_exporter": "python",
   "pygments_lexer": "ipython3",
   "version": "3.9.8"
  }
 },
 "nbformat": 4,
 "nbformat_minor": 2
}
