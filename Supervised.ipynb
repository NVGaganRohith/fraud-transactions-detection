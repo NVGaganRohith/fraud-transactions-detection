{
 "cells": [
  {
   "cell_type": "code",
   "execution_count": 9,
   "metadata": {},
   "outputs": [],
   "source": [
    "import pandas as pd\n",
    "from sklearn.model_selection import train_test_split\n",
    "from sklearn.preprocessing import StandardScaler, LabelEncoder\n",
    "from sklearn.metrics import classification_report\n",
    "from sklearn.neural_network import MLPClassifier\n",
    "from sklearn.ensemble import AdaBoostClassifier\n",
    "from sklearn.naive_bayes import GaussianNB\n",
    "import tensorflow as tf\n",
    "from tensorflow.keras.models import Sequential\n",
    "from tensorflow.keras.layers import Dense"
   ]
  },
  {
   "cell_type": "code",
   "execution_count": 10,
   "metadata": {},
   "outputs": [
    {
     "data": {
      "text/html": [
       "<div>\n",
       "<style scoped>\n",
       "    .dataframe tbody tr th:only-of-type {\n",
       "        vertical-align: middle;\n",
       "    }\n",
       "\n",
       "    .dataframe tbody tr th {\n",
       "        vertical-align: top;\n",
       "    }\n",
       "\n",
       "    .dataframe thead th {\n",
       "        text-align: right;\n",
       "    }\n",
       "</style>\n",
       "<table border=\"1\" class=\"dataframe\">\n",
       "  <thead>\n",
       "    <tr style=\"text-align: right;\">\n",
       "      <th></th>\n",
       "      <th>Transaction_Id</th>\n",
       "      <th>Sender_Id</th>\n",
       "      <th>Sender_Account</th>\n",
       "      <th>Sender_Country</th>\n",
       "      <th>Sender_Sector</th>\n",
       "      <th>Sender_lob</th>\n",
       "      <th>Bene_Id</th>\n",
       "      <th>Bene_Account</th>\n",
       "      <th>Bene_Country</th>\n",
       "      <th>USD_amount</th>\n",
       "      <th>Label</th>\n",
       "      <th>Transaction_Type</th>\n",
       "      <th>Date</th>\n",
       "      <th>Time</th>\n",
       "    </tr>\n",
       "  </thead>\n",
       "  <tbody>\n",
       "    <tr>\n",
       "      <th>0</th>\n",
       "      <td>EXCHANGE-10115</td>\n",
       "      <td>JPMC-CLIENT-10098</td>\n",
       "      <td>ACCOUNT-10108</td>\n",
       "      <td>USA</td>\n",
       "      <td>35537</td>\n",
       "      <td>CCB</td>\n",
       "      <td>Unknown</td>\n",
       "      <td>Unknown</td>\n",
       "      <td>Unknown</td>\n",
       "      <td>558.43</td>\n",
       "      <td>0</td>\n",
       "      <td>WITHDRAWAL</td>\n",
       "      <td>2022-01-15</td>\n",
       "      <td>37440</td>\n",
       "    </tr>\n",
       "    <tr>\n",
       "      <th>1</th>\n",
       "      <td>QUICK-PAYMENT-10116</td>\n",
       "      <td>JPMC-CLIENT-10098</td>\n",
       "      <td>ACCOUNT-10109</td>\n",
       "      <td>USA</td>\n",
       "      <td>15287</td>\n",
       "      <td>CCB</td>\n",
       "      <td>CLIENT-10100</td>\n",
       "      <td>ACCOUNT-10106</td>\n",
       "      <td>CANADA</td>\n",
       "      <td>622.78</td>\n",
       "      <td>0</td>\n",
       "      <td>QUICK-PAYMENT</td>\n",
       "      <td>2022-01-15</td>\n",
       "      <td>37440</td>\n",
       "    </tr>\n",
       "    <tr>\n",
       "      <th>2</th>\n",
       "      <td>DEPOSIT-CASH-9833</td>\n",
       "      <td>Unknown</td>\n",
       "      <td>Unknown</td>\n",
       "      <td>Unknown</td>\n",
       "      <td>0</td>\n",
       "      <td>Unknown</td>\n",
       "      <td>JPMC-CLIENT-9812</td>\n",
       "      <td>ACCOUNT-9826</td>\n",
       "      <td>USA</td>\n",
       "      <td>802.54</td>\n",
       "      <td>0</td>\n",
       "      <td>DEPOSIT-CASH</td>\n",
       "      <td>2022-01-15</td>\n",
       "      <td>37440</td>\n",
       "    </tr>\n",
       "  </tbody>\n",
       "</table>\n",
       "</div>"
      ],
      "text/plain": [
       "        Transaction_Id          Sender_Id Sender_Account Sender_Country  \\\n",
       "0       EXCHANGE-10115  JPMC-CLIENT-10098  ACCOUNT-10108            USA   \n",
       "1  QUICK-PAYMENT-10116  JPMC-CLIENT-10098  ACCOUNT-10109            USA   \n",
       "2    DEPOSIT-CASH-9833            Unknown        Unknown        Unknown   \n",
       "\n",
       "   Sender_Sector Sender_lob           Bene_Id   Bene_Account Bene_Country  \\\n",
       "0          35537        CCB           Unknown        Unknown      Unknown   \n",
       "1          15287        CCB      CLIENT-10100  ACCOUNT-10106       CANADA   \n",
       "2              0    Unknown  JPMC-CLIENT-9812   ACCOUNT-9826          USA   \n",
       "\n",
       "   USD_amount  Label Transaction_Type        Date   Time  \n",
       "0      558.43      0       WITHDRAWAL  2022-01-15  37440  \n",
       "1      622.78      0    QUICK-PAYMENT  2022-01-15  37440  \n",
       "2      802.54      0     DEPOSIT-CASH  2022-01-15  37440  "
      ]
     },
     "execution_count": 10,
     "metadata": {},
     "output_type": "execute_result"
    }
   ],
   "source": [
    "# Load data\n",
    "data = pd.read_csv(r\"C:\\Users\\gagan\\Downloads\\Data\\Winter 23-24\\Capstone\\fraud-transactions-detection\\JPMorgan\\SupervisedFraudData.csv\")\n",
    "data.head(3)"
   ]
  },
  {
   "cell_type": "code",
   "execution_count": 11,
   "metadata": {},
   "outputs": [
    {
     "data": {
      "text/plain": [
       "Index(['Transaction_Id', 'Sender_Id', 'Sender_Account', 'Sender_Country',\n",
       "       'Sender_Sector', 'Sender_lob', 'Bene_Id', 'Bene_Account',\n",
       "       'Bene_Country', 'USD_amount', 'Label', 'Transaction_Type', 'Date',\n",
       "       'Time'],\n",
       "      dtype='object')"
      ]
     },
     "execution_count": 11,
     "metadata": {},
     "output_type": "execute_result"
    }
   ],
   "source": [
    "data.columns"
   ]
  },
  {
   "cell_type": "code",
   "execution_count": 12,
   "metadata": {},
   "outputs": [
    {
     "name": "stdout",
     "output_type": "stream",
     "text": [
      "<class 'pandas.core.frame.DataFrame'>\n",
      "RangeIndex: 1498177 entries, 0 to 1498176\n",
      "Data columns (total 14 columns):\n",
      " #   Column            Non-Null Count    Dtype  \n",
      "---  ------            --------------    -----  \n",
      " 0   Transaction_Id    1498177 non-null  object \n",
      " 1   Sender_Id         1498177 non-null  object \n",
      " 2   Sender_Account    1498177 non-null  object \n",
      " 3   Sender_Country    1498177 non-null  object \n",
      " 4   Sender_Sector     1498177 non-null  int64  \n",
      " 5   Sender_lob        1498177 non-null  object \n",
      " 6   Bene_Id           1498177 non-null  object \n",
      " 7   Bene_Account      1498177 non-null  object \n",
      " 8   Bene_Country      1498177 non-null  object \n",
      " 9   USD_amount        1498177 non-null  float64\n",
      " 10  Label             1498177 non-null  int64  \n",
      " 11  Transaction_Type  1498177 non-null  object \n",
      " 12  Date              1498177 non-null  object \n",
      " 13  Time              1498177 non-null  int64  \n",
      "dtypes: float64(1), int64(3), object(10)\n",
      "memory usage: 160.0+ MB\n"
     ]
    }
   ],
   "source": [
    "data.info()"
   ]
  },
  {
   "cell_type": "markdown",
   "metadata": {},
   "source": [
    "# Data preprocessing"
   ]
  },
  {
   "cell_type": "code",
   "execution_count": 13,
   "metadata": {},
   "outputs": [],
   "source": [
    "from datetime import datetime\n",
    "def convert_to_unix(date_string):\n",
    "    date_object = datetime.strptime(date_string, \"%Y-%m-%d\")\n",
    "    return int(date_object.timestamp())\n",
    "\n",
    "# Apply the function to the DataFrame column 'Date'\n",
    "data['Unix_Timestamp'] = data['Date'].apply(convert_to_unix)"
   ]
  },
  {
   "cell_type": "code",
   "execution_count": 14,
   "metadata": {},
   "outputs": [],
   "source": [
    "from sklearn.preprocessing import MinMaxScaler\n",
    "\n",
    "# Initialize the MinMaxScaler\n",
    "scaler = MinMaxScaler()\n",
    "\n",
    "# Normalize the 'Unix_Timestamp' and 'Time' columns\n",
    "data[['Unix_Timestamp', 'Time']] = scaler.fit_transform(data[['Unix_Timestamp', 'Time']])"
   ]
  },
  {
   "cell_type": "code",
   "execution_count": 15,
   "metadata": {},
   "outputs": [],
   "source": [
    "# Encode categorical variables\n",
    "label_encoders = {}\n",
    "categorical_cols = ['Sender_Country', 'Sender_lob', 'Bene_Country', 'Transaction_Type']\n",
    "for col in categorical_cols:\n",
    "    label_encoders[col] = LabelEncoder()\n",
    "    data[col] = label_encoders[col].fit_transform(data[col])"
   ]
  },
  {
   "cell_type": "code",
   "execution_count": 16,
   "metadata": {},
   "outputs": [],
   "source": [
    "# Normalize numerical features\n",
    "scaler = StandardScaler()\n",
    "data['USD_amount'] = scaler.fit_transform(data['USD_amount'].values.reshape(-1, 1))"
   ]
  },
  {
   "cell_type": "code",
   "execution_count": 17,
   "metadata": {},
   "outputs": [],
   "source": [
    "# Split data into features and labels\n",
    "X = data.drop(['Label', 'Transaction_Id', 'Sender_Id', 'Bene_Id', 'Bene_Account', 'Bene_Country','Sender_Account','Bene_Account','Date'], axis=1)\n",
    "y = data['Label']"
   ]
  },
  {
   "cell_type": "code",
   "execution_count": 18,
   "metadata": {},
   "outputs": [],
   "source": [
    "# Split data into train and test sets\n",
    "X_train, X_test, y_train, y_test = train_test_split(X, y, test_size=0.2, random_state=42, stratify=y)"
   ]
  },
  {
   "cell_type": "markdown",
   "metadata": {},
   "source": [
    "# Model training and evaluation"
   ]
  },
  {
   "cell_type": "code",
   "execution_count": 19,
   "metadata": {},
   "outputs": [
    {
     "name": "stdout",
     "output_type": "stream",
     "text": [
      "MLP Classifier:\n",
      "              precision    recall  f1-score   support\n",
      "\n",
      "           0       0.98      1.00      0.99    293472\n",
      "           1       0.83      0.01      0.02      6164\n",
      "\n",
      "    accuracy                           0.98    299636\n",
      "   macro avg       0.90      0.51      0.50    299636\n",
      "weighted avg       0.98      0.98      0.97    299636\n",
      "\n"
     ]
    }
   ],
   "source": [
    "# Multi-Layer Perceptron (MLP)\n",
    "mlp = MLPClassifier(hidden_layer_sizes=(64, 32), max_iter=100, random_state=42)\n",
    "mlp.fit(X_train, y_train)\n",
    "mlp_pred = mlp.predict(X_test)\n",
    "print(\"MLP Classifier:\")\n",
    "print(classification_report(y_test, mlp_pred))"
   ]
  },
  {
   "cell_type": "code",
   "execution_count": 20,
   "metadata": {},
   "outputs": [
    {
     "name": "stderr",
     "output_type": "stream",
     "text": [
      "c:\\Users\\gagan\\AppData\\Local\\Programs\\Python\\Python39\\lib\\site-packages\\sklearn\\ensemble\\_weight_boosting.py:519: FutureWarning: The SAMME.R algorithm (the default) is deprecated and will be removed in 1.6. Use the SAMME algorithm to circumvent this warning.\n",
      "  warnings.warn(\n"
     ]
    },
    {
     "name": "stdout",
     "output_type": "stream",
     "text": [
      "AdaBoost Classifier:\n",
      "              precision    recall  f1-score   support\n",
      "\n",
      "           0       0.98      1.00      0.99    293472\n",
      "           1       0.94      0.03      0.06      6164\n",
      "\n",
      "    accuracy                           0.98    299636\n",
      "   macro avg       0.96      0.52      0.53    299636\n",
      "weighted avg       0.98      0.98      0.97    299636\n",
      "\n"
     ]
    }
   ],
   "source": [
    "# AdaBoost\n",
    "adaboost = AdaBoostClassifier(n_estimators=100, random_state=42)\n",
    "adaboost.fit(X_train, y_train)\n",
    "adaboost_pred = adaboost.predict(X_test)\n",
    "print(\"AdaBoost Classifier:\")\n",
    "print(classification_report(y_test, adaboost_pred))"
   ]
  },
  {
   "cell_type": "code",
   "execution_count": 21,
   "metadata": {},
   "outputs": [
    {
     "name": "stdout",
     "output_type": "stream",
     "text": [
      "Naive Bayes Classifier:\n",
      "              precision    recall  f1-score   support\n",
      "\n",
      "           0       0.98      1.00      0.99    293472\n",
      "           1       0.94      0.03      0.06      6164\n",
      "\n",
      "    accuracy                           0.98    299636\n",
      "   macro avg       0.96      0.52      0.53    299636\n",
      "weighted avg       0.98      0.98      0.97    299636\n",
      "\n"
     ]
    }
   ],
   "source": [
    "# Naive Bayes\n",
    "naive_bayes = GaussianNB()\n",
    "naive_bayes.fit(X_train, y_train)\n",
    "nb_pred = naive_bayes.predict(X_test)\n",
    "print(\"Naive Bayes Classifier:\")\n",
    "print(classification_report(y_test, nb_pred))"
   ]
  },
  {
   "cell_type": "code",
   "execution_count": 22,
   "metadata": {},
   "outputs": [
    {
     "name": "stdout",
     "output_type": "stream",
     "text": [
      "Epoch 1/10\n"
     ]
    },
    {
     "name": "stderr",
     "output_type": "stream",
     "text": [
      "c:\\Users\\gagan\\AppData\\Local\\Programs\\Python\\Python39\\lib\\site-packages\\keras\\src\\layers\\core\\dense.py:88: UserWarning: Do not pass an `input_shape`/`input_dim` argument to a layer. When using Sequential models, prefer using an `Input(shape)` object as the first layer in the model instead.\n",
      "  super().__init__(activity_regularizer=activity_regularizer, **kwargs)\n"
     ]
    },
    {
     "name": "stdout",
     "output_type": "stream",
     "text": [
      "\u001b[1m29964/29964\u001b[0m \u001b[32m━━━━━━━━━━━━━━━━━━━━\u001b[0m\u001b[37m\u001b[0m \u001b[1m20s\u001b[0m 639us/step - accuracy: 0.9642 - loss: 6.4172 - val_accuracy: 0.9793 - val_loss: 0.1066\n",
      "Epoch 2/10\n",
      "\u001b[1m29964/29964\u001b[0m \u001b[32m━━━━━━━━━━━━━━━━━━━━\u001b[0m\u001b[37m\u001b[0m \u001b[1m29s\u001b[0m 960us/step - accuracy: 0.9793 - loss: 0.1213 - val_accuracy: 0.9794 - val_loss: 0.1005\n",
      "Epoch 3/10\n",
      "\u001b[1m29964/29964\u001b[0m \u001b[32m━━━━━━━━━━━━━━━━━━━━\u001b[0m\u001b[37m\u001b[0m \u001b[1m20s\u001b[0m 653us/step - accuracy: 0.9798 - loss: 0.0987 - val_accuracy: 0.9794 - val_loss: 0.1003\n",
      "Epoch 4/10\n",
      "\u001b[1m29964/29964\u001b[0m \u001b[32m━━━━━━━━━━━━━━━━━━━━\u001b[0m\u001b[37m\u001b[0m \u001b[1m20s\u001b[0m 650us/step - accuracy: 0.9796 - loss: 0.0996 - val_accuracy: 0.9793 - val_loss: 0.1004\n",
      "Epoch 5/10\n",
      "\u001b[1m29964/29964\u001b[0m \u001b[32m━━━━━━━━━━━━━━━━━━━━\u001b[0m\u001b[37m\u001b[0m \u001b[1m22s\u001b[0m 716us/step - accuracy: 0.9796 - loss: 0.0996 - val_accuracy: 0.9794 - val_loss: 0.1005\n",
      "Epoch 6/10\n",
      "\u001b[1m29964/29964\u001b[0m \u001b[32m━━━━━━━━━━━━━━━━━━━━\u001b[0m\u001b[37m\u001b[0m \u001b[1m21s\u001b[0m 691us/step - accuracy: 0.9798 - loss: 0.0988 - val_accuracy: 0.9794 - val_loss: 0.1007\n",
      "Epoch 7/10\n",
      "\u001b[1m29964/29964\u001b[0m \u001b[32m━━━━━━━━━━━━━━━━━━━━\u001b[0m\u001b[37m\u001b[0m \u001b[1m22s\u001b[0m 728us/step - accuracy: 0.9795 - loss: 0.0997 - val_accuracy: 0.9794 - val_loss: 0.1003\n",
      "Epoch 8/10\n",
      "\u001b[1m29964/29964\u001b[0m \u001b[32m━━━━━━━━━━━━━━━━━━━━\u001b[0m\u001b[37m\u001b[0m \u001b[1m38s\u001b[0m 1ms/step - accuracy: 0.9794 - loss: 0.1003 - val_accuracy: 0.9794 - val_loss: 0.1004\n",
      "Epoch 9/10\n",
      "\u001b[1m29964/29964\u001b[0m \u001b[32m━━━━━━━━━━━━━━━━━━━━\u001b[0m\u001b[37m\u001b[0m \u001b[1m43s\u001b[0m 1ms/step - accuracy: 0.9796 - loss: 0.0996 - val_accuracy: 0.9794 - val_loss: 0.1003\n",
      "Epoch 10/10\n",
      "\u001b[1m29964/29964\u001b[0m \u001b[32m━━━━━━━━━━━━━━━━━━━━\u001b[0m\u001b[37m\u001b[0m \u001b[1m36s\u001b[0m 1ms/step - accuracy: 0.9797 - loss: 0.0992 - val_accuracy: 0.9794 - val_loss: 0.1004\n"
     ]
    }
   ],
   "source": [
    "# Neural Network with TensorFlow\n",
    "model = Sequential([\n",
    "    Dense(64, activation='relu', input_shape=(X_train.shape[1],)),\n",
    "    Dense(32, activation='relu'),\n",
    "    Dense(1, activation='sigmoid')\n",
    "])\n",
    "model.compile(optimizer='adam', loss='binary_crossentropy', metrics=['accuracy'])\n",
    "history = model.fit(X_train, y_train, epochs=10, batch_size=32, validation_split=0.2)"
   ]
  },
  {
   "cell_type": "code",
   "execution_count": 23,
   "metadata": {},
   "outputs": [
    {
     "name": "stdout",
     "output_type": "stream",
     "text": [
      "\u001b[1m9364/9364\u001b[0m \u001b[32m━━━━━━━━━━━━━━━━━━━━\u001b[0m\u001b[37m\u001b[0m \u001b[1m8s\u001b[0m 877us/step\n",
      "Neural Network:\n",
      "              precision    recall  f1-score   support\n",
      "\n",
      "           0       0.98      1.00      0.99    293472\n",
      "           1       1.00      0.01      0.01      6164\n",
      "\n",
      "    accuracy                           0.98    299636\n",
      "   macro avg       0.99      0.50      0.50    299636\n",
      "weighted avg       0.98      0.98      0.97    299636\n",
      "\n"
     ]
    }
   ],
   "source": [
    "# Evaluate Neural Network\n",
    "nn_pred = (model.predict(X_test) > 0.5).astype(\"int32\")\n",
    "print(\"Neural Network:\")\n",
    "print(classification_report(y_test, nn_pred))"
   ]
  }
 ],
 "metadata": {
  "kernelspec": {
   "display_name": "Python 3",
   "language": "python",
   "name": "python3"
  },
  "language_info": {
   "codemirror_mode": {
    "name": "ipython",
    "version": 3
   },
   "file_extension": ".py",
   "mimetype": "text/x-python",
   "name": "python",
   "nbconvert_exporter": "python",
   "pygments_lexer": "ipython3",
   "version": "3.9.8"
  }
 },
 "nbformat": 4,
 "nbformat_minor": 2
}
