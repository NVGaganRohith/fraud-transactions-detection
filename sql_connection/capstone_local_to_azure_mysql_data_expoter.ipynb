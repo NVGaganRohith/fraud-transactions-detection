{
 "cells": [
  {
   "cell_type": "code",
   "execution_count": 13,
   "metadata": {},
   "outputs": [],
   "source": [
    "#!pip install mysql-connector-python"
   ]
  },
  {
   "cell_type": "code",
   "execution_count": null,
   "metadata": {},
   "outputs": [],
   "source": []
  },
  {
   "cell_type": "code",
   "execution_count": 1,
   "metadata": {},
   "outputs": [],
   "source": [
    "import mysql.connector"
   ]
  },
  {
   "cell_type": "code",
   "execution_count": 2,
   "metadata": {},
   "outputs": [],
   "source": [
    "connection  = mysql.connector.connect(user=\"genpact\", password=\"P123pp..\", host=\"predictedoutcomesserver.mysql.database.azure.com\", port=3306, database=\"predicted_outcomes_db\", ssl_ca=\"{ca-cert filename}\", ssl_disabled=False)\n",
    "cursor = connection.cursor()"
   ]
  },
  {
   "cell_type": "code",
   "execution_count": 3,
   "metadata": {},
   "outputs": [],
   "source": [
    "import mysql.connector\n",
    "\n",
    "def transaction_id_label_inserter_for_entire_df_upload(df):\n",
    "    try:\n",
    "        connection  = mysql.connector.connect(user=\"genpact\", password=\"P123pp..\", host=\"predictedoutcomesserver.mysql.database.azure.com\", port=3306, database=\"predicted_outcomes_db\")\n",
    "        cursor = connection.cursor()\n",
    "\n",
    "        for index, row in df.iterrows():\n",
    "            Transaction_Id = row['Transaction_Id']\n",
    "            Sender_Country = row['Sender_Country']\n",
    "            Sender_Sector = row['Sender_Sector']\n",
    "            Bene_Country = row['Bene_Country']\n",
    "            USD_amount= row['USD_amount']\n",
    "            Transaction_Type = row['Transaction_Type']\n",
    "            Sender_Type = row['Sender_Type']\n",
    "            Bene_Type = row['Bene_Type']\n",
    "            Time = row['Time']\n",
    "            Year = row['Year']\n",
    "            Month = row['Month']\n",
    "            Day = row['Day']\n",
    "            Label = row['Label']\n",
    "            \n",
    "            cursor.execute(f\"INSERT INTO predicted_outcomes_db.predictions_made_by_model_table (Transaction_Id, Sender_Country, Sender_Sector, Bene_Country, USD_amount, Transaction_Type, Sender_Type, Bene_Type, Time, Year, Month, Day, Label) VALUES ('{Transaction_Id}', '{Sender_Country}', '{Sender_Sector}', '{Bene_Country}', '{USD_amount}', '{Transaction_Type}', '{Sender_Type}', '{Bene_Type}', '{Time}', '{Year}', '{Month}', '{Day}', '{Label}')\")\n",
    "            connection.commit()\n",
    "    except mysql.connector.Error as error:\n",
    "        print(error)\n",
    "    finally:\n",
    "        if (connection.is_connected()):\n",
    "            cursor.close()\n",
    "            connection.close()\n",
    "            print(\"MySQL connection is closed\")\n"
   ]
  },
  {
   "cell_type": "code",
   "execution_count": 4,
   "metadata": {},
   "outputs": [
    {
     "data": {
      "text/html": [
       "<div>\n",
       "<style scoped>\n",
       "    .dataframe tbody tr th:only-of-type {\n",
       "        vertical-align: middle;\n",
       "    }\n",
       "\n",
       "    .dataframe tbody tr th {\n",
       "        vertical-align: top;\n",
       "    }\n",
       "\n",
       "    .dataframe thead th {\n",
       "        text-align: right;\n",
       "    }\n",
       "</style>\n",
       "<table border=\"1\" class=\"dataframe\">\n",
       "  <thead>\n",
       "    <tr style=\"text-align: right;\">\n",
       "      <th></th>\n",
       "      <th>Transaction_Id</th>\n",
       "      <th>Sender_Country</th>\n",
       "      <th>Sender_Sector</th>\n",
       "      <th>Bene_Country</th>\n",
       "      <th>USD_amount</th>\n",
       "      <th>Label</th>\n",
       "      <th>Transaction_Type</th>\n",
       "      <th>Sender_Type</th>\n",
       "      <th>Bene_Type</th>\n",
       "      <th>Time</th>\n",
       "      <th>Year</th>\n",
       "      <th>Month</th>\n",
       "      <th>Day</th>\n",
       "    </tr>\n",
       "  </thead>\n",
       "  <tbody>\n",
       "    <tr>\n",
       "      <th>0</th>\n",
       "      <td>QUICK-PAYMENT-10116</td>\n",
       "      <td>USA</td>\n",
       "      <td>15287.0</td>\n",
       "      <td>CANADA</td>\n",
       "      <td>622.78</td>\n",
       "      <td>0</td>\n",
       "      <td>QUICK-PAYMENT</td>\n",
       "      <td>JPMC-CLIENT</td>\n",
       "      <td>CLIENT</td>\n",
       "      <td>37440</td>\n",
       "      <td>2022</td>\n",
       "      <td>3</td>\n",
       "      <td>15</td>\n",
       "    </tr>\n",
       "    <tr>\n",
       "      <th>1</th>\n",
       "      <td>PAY-CHECK-9832</td>\n",
       "      <td>USA</td>\n",
       "      <td>38145.0</td>\n",
       "      <td>USA</td>\n",
       "      <td>989.09</td>\n",
       "      <td>0</td>\n",
       "      <td>PAY-CHECK</td>\n",
       "      <td>JPMC-CLIENT</td>\n",
       "      <td>JPMC-CLIENT</td>\n",
       "      <td>37440</td>\n",
       "      <td>2022</td>\n",
       "      <td>3</td>\n",
       "      <td>15</td>\n",
       "    </tr>\n",
       "    <tr>\n",
       "      <th>2</th>\n",
       "      <td>PAY-CHECK-9780</td>\n",
       "      <td>USA</td>\n",
       "      <td>14645.0</td>\n",
       "      <td>OTHERS</td>\n",
       "      <td>543.87</td>\n",
       "      <td>0</td>\n",
       "      <td>PAY-CHECK</td>\n",
       "      <td>JPMC-CLIENT</td>\n",
       "      <td>JPMC-COMPANY</td>\n",
       "      <td>37440</td>\n",
       "      <td>2022</td>\n",
       "      <td>3</td>\n",
       "      <td>15</td>\n",
       "    </tr>\n",
       "    <tr>\n",
       "      <th>3</th>\n",
       "      <td>MAKE-PAYMENT-9501</td>\n",
       "      <td>OTHERS</td>\n",
       "      <td>25040.0</td>\n",
       "      <td>USA</td>\n",
       "      <td>336.55</td>\n",
       "      <td>0</td>\n",
       "      <td>MAKE-PAYMENT</td>\n",
       "      <td>CLIENT</td>\n",
       "      <td>JPMC-CLIENT</td>\n",
       "      <td>37440</td>\n",
       "      <td>2022</td>\n",
       "      <td>3</td>\n",
       "      <td>15</td>\n",
       "    </tr>\n",
       "    <tr>\n",
       "      <th>4</th>\n",
       "      <td>QUICK-PAYMENT-9249</td>\n",
       "      <td>USA</td>\n",
       "      <td>34576.0</td>\n",
       "      <td>OTHERS</td>\n",
       "      <td>265.66</td>\n",
       "      <td>0</td>\n",
       "      <td>QUICK-PAYMENT</td>\n",
       "      <td>JPMC-CLIENT</td>\n",
       "      <td>COMPANY</td>\n",
       "      <td>37440</td>\n",
       "      <td>2022</td>\n",
       "      <td>3</td>\n",
       "      <td>15</td>\n",
       "    </tr>\n",
       "  </tbody>\n",
       "</table>\n",
       "</div>"
      ],
      "text/plain": [
       "        Transaction_Id Sender_Country  Sender_Sector Bene_Country  USD_amount  \\\n",
       "0  QUICK-PAYMENT-10116            USA        15287.0       CANADA      622.78   \n",
       "1       PAY-CHECK-9832            USA        38145.0          USA      989.09   \n",
       "2       PAY-CHECK-9780            USA        14645.0       OTHERS      543.87   \n",
       "3    MAKE-PAYMENT-9501         OTHERS        25040.0          USA      336.55   \n",
       "4   QUICK-PAYMENT-9249            USA        34576.0       OTHERS      265.66   \n",
       "\n",
       "   Label Transaction_Type  Sender_Type     Bene_Type   Time  Year  Month  Day  \n",
       "0      0    QUICK-PAYMENT  JPMC-CLIENT        CLIENT  37440  2022      3   15  \n",
       "1      0        PAY-CHECK  JPMC-CLIENT   JPMC-CLIENT  37440  2022      3   15  \n",
       "2      0        PAY-CHECK  JPMC-CLIENT  JPMC-COMPANY  37440  2022      3   15  \n",
       "3      0     MAKE-PAYMENT       CLIENT   JPMC-CLIENT  37440  2022      3   15  \n",
       "4      0    QUICK-PAYMENT  JPMC-CLIENT       COMPANY  37440  2022      3   15  "
      ]
     },
     "execution_count": 4,
     "metadata": {},
     "output_type": "execute_result"
    }
   ],
   "source": [
    "import pandas as pd\n",
    "df = pd.read_csv(\"transformed.csv\")\n",
    "df.head()"
   ]
  },
  {
   "cell_type": "code",
   "execution_count": 5,
   "metadata": {},
   "outputs": [
    {
     "name": "stdout",
     "output_type": "stream",
     "text": [
      "<class 'pandas.core.frame.DataFrame'>\n",
      "RangeIndex: 1063398 entries, 0 to 1063397\n",
      "Data columns (total 13 columns):\n",
      " #   Column            Non-Null Count    Dtype  \n",
      "---  ------            --------------    -----  \n",
      " 0   Transaction_Id    1063398 non-null  object \n",
      " 1   Sender_Country    1063398 non-null  object \n",
      " 2   Sender_Sector     1063398 non-null  float64\n",
      " 3   Bene_Country      1063398 non-null  object \n",
      " 4   USD_amount        1063398 non-null  float64\n",
      " 5   Label             1063398 non-null  int64  \n",
      " 6   Transaction_Type  1063398 non-null  object \n",
      " 7   Sender_Type       1063398 non-null  object \n",
      " 8   Bene_Type         1063398 non-null  object \n",
      " 9   Time              1063398 non-null  int64  \n",
      " 10  Year              1063398 non-null  int64  \n",
      " 11  Month             1063398 non-null  int64  \n",
      " 12  Day               1063398 non-null  int64  \n",
      "dtypes: float64(2), int64(5), object(6)\n",
      "memory usage: 105.5+ MB\n"
     ]
    }
   ],
   "source": [
    "df.info()"
   ]
  },
  {
   "cell_type": "code",
   "execution_count": 8,
   "metadata": {},
   "outputs": [
    {
     "name": "stdout",
     "output_type": "stream",
     "text": [
      "MySQL connection is closed\n"
     ]
    }
   ],
   "source": [
    "\n",
    "transaction_id_label_inserter_for_entire_df_upload(df[df[\"Label\"]==1].head(1))"
   ]
  },
  {
   "cell_type": "code",
   "execution_count": 7,
   "metadata": {},
   "outputs": [
    {
     "data": {
      "text/plain": [
       "Index(['Transaction_Id', 'Sender_Country', 'Sender_Sector', 'Bene_Country',\n",
       "       'USD_amount', 'Label', 'Transaction_Type', 'Sender_Type', 'Bene_Type',\n",
       "       'Time', 'Year', 'Month', 'Day'],\n",
       "      dtype='object')"
      ]
     },
     "execution_count": 7,
     "metadata": {},
     "output_type": "execute_result"
    }
   ],
   "source": [
    "df.columns"
   ]
  },
  {
   "cell_type": "code",
   "execution_count": 9,
   "metadata": {},
   "outputs": [
    {
     "data": {
      "text/html": [
       "<div>\n",
       "<style scoped>\n",
       "    .dataframe tbody tr th:only-of-type {\n",
       "        vertical-align: middle;\n",
       "    }\n",
       "\n",
       "    .dataframe tbody tr th {\n",
       "        vertical-align: top;\n",
       "    }\n",
       "\n",
       "    .dataframe thead th {\n",
       "        text-align: right;\n",
       "    }\n",
       "</style>\n",
       "<table border=\"1\" class=\"dataframe\">\n",
       "  <thead>\n",
       "    <tr style=\"text-align: right;\">\n",
       "      <th></th>\n",
       "      <th>Transaction_Id</th>\n",
       "      <th>Sender_Country</th>\n",
       "      <th>Sender_Sector</th>\n",
       "      <th>Bene_Country</th>\n",
       "      <th>USD_amount</th>\n",
       "      <th>Label</th>\n",
       "      <th>Transaction_Type</th>\n",
       "      <th>Sender_Type</th>\n",
       "      <th>Bene_Type</th>\n",
       "      <th>Time</th>\n",
       "      <th>Year</th>\n",
       "      <th>Month</th>\n",
       "      <th>Day</th>\n",
       "    </tr>\n",
       "  </thead>\n",
       "  <tbody>\n",
       "    <tr>\n",
       "      <th>6</th>\n",
       "      <td>QUICK-PAYMENT-8964</td>\n",
       "      <td>USA</td>\n",
       "      <td>23505.0</td>\n",
       "      <td>OTHERS</td>\n",
       "      <td>857.13</td>\n",
       "      <td>1</td>\n",
       "      <td>QUICK-PAYMENT</td>\n",
       "      <td>JPMC-CLIENT</td>\n",
       "      <td>CLIENT</td>\n",
       "      <td>37440</td>\n",
       "      <td>2022</td>\n",
       "      <td>3</td>\n",
       "      <td>15</td>\n",
       "    </tr>\n",
       "  </tbody>\n",
       "</table>\n",
       "</div>"
      ],
      "text/plain": [
       "       Transaction_Id Sender_Country  Sender_Sector Bene_Country  USD_amount  \\\n",
       "6  QUICK-PAYMENT-8964            USA        23505.0       OTHERS      857.13   \n",
       "\n",
       "   Label Transaction_Type  Sender_Type Bene_Type   Time  Year  Month  Day  \n",
       "6      1    QUICK-PAYMENT  JPMC-CLIENT    CLIENT  37440  2022      3   15  "
      ]
     },
     "execution_count": 9,
     "metadata": {},
     "output_type": "execute_result"
    }
   ],
   "source": [
    "df[df[\"Label\"]==1].head(1)"
   ]
  },
  {
   "cell_type": "code",
   "execution_count": null,
   "metadata": {},
   "outputs": [],
   "source": []
  }
 ],
 "metadata": {
  "kernelspec": {
   "display_name": "Python 3",
   "language": "python",
   "name": "python3"
  },
  "language_info": {
   "codemirror_mode": {
    "name": "ipython",
    "version": 3
   },
   "file_extension": ".py",
   "mimetype": "text/x-python",
   "name": "python",
   "nbconvert_exporter": "python",
   "pygments_lexer": "ipython3",
   "version": "3.9.8"
  }
 },
 "nbformat": 4,
 "nbformat_minor": 2
}
